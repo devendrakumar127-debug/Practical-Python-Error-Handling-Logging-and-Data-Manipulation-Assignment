{
  "nbformat": 4,
  "nbformat_minor": 0,
  "metadata": {
    "colab": {
      "provenance": []
    },
    "kernelspec": {
      "name": "python3",
      "display_name": "Python 3"
    },
    "language_info": {
      "name": "python"
    }
  },
  "cells": [
    {
      "cell_type": "markdown",
      "source": [
        "**Error Handling, Logging, and Data Manipulation Assignment**\n",
        ":"
      ],
      "metadata": {
        "id": "e6IQ8_yZeCkW"
      }
    },
    {
      "cell_type": "markdown",
      "source": [
        "Question 1 : What is the difference between multithreading and multiprocessing?\n",
        "\n",
        "Ans:- There are several differences between multithreading and multiprocessing. Which are given below:-\n",
        "1. Independance\n",
        "- In multiprocessing, each process runs independently with its own memory space. Processes do not share memory by default, and communication between them requires explicit mechanisms such as inter-process communication (IPC).\n",
        "\n",
        "- In multithreading, multiple threads share the same memory space within the single process. Threads can communicate more directly by accessing shared data.\n",
        "2. Communication\n",
        "- Communication between processes is typically achieved through IPC mechanisms like message passing, or file based communication.\n",
        "- Threads can communicate more easily by sharing data directly, as they have access to the same memory space.\n",
        "3. Fault Isolation\n",
        "- Processes are more isolated, providing better fault isolation. If one process crashes, it does not necessarily affect others.\n",
        "- Threads within the same process share the same memory space, making them more susceptible to issues such as data corruption or unintended interactions.\n",
        "4. Resource utilization\n",
        "- Can take advantage of multiple CPU cores, as each process can run on a separate core. Suitable for CPU-bound tasks.\n",
        "- Suitable for I/O - bound tasks or tasks where parallelism can be achieved within a single process.\n",
        "5. Concurrency\n",
        "- Involves concurrent execution of multiple processes, each with its own program counter and resource.\n",
        "- Involves concurrent execution of multiple threads within the same process, sharing the same program counter\n",
        "\n"
      ],
      "metadata": {
        "id": "XoVfYM_KeKPd"
      }
    },
    {
      "cell_type": "markdown",
      "source": [
        "Question 2: What are the challenges associated with memory management in Python?\n",
        "Ans:- Python does automatic memory management using its garbage collector and reference counting, but it’s not perfect. Several challenges arise because of how memory is allocated, tracked, and released.\n",
        "1. Reference Cycles\n",
        "- Python uses reference counting to track how many variables refer to an object.\n",
        "\n",
        "- If two or more objects reference each other (a circular reference), their reference counts never reach zero — meaning memory is not released automatically.\n",
        "\n",
        "- Although Python’s garbage collector can detect such cycles, it doesn’t always clean them efficiently, especially if they involve objects with custom destructors (__del__ methods).\n",
        "\n",
        "2. Memory Leaks\n",
        "- Memory leaks occur when objects are no longer needed but not freed due to lingering references.\n",
        "\n",
        "- This is common in long-running applications (like servers or data processing scripts).\n",
        "\n",
        "- Causes include:\n",
        "\n",
        "    Global variables or caches not cleared\n",
        "\n",
        "    Circular references\n",
        "\n",
        "    Improperly managed external resources (e.g., open file handles, sockets)\n",
        "\n",
        "3. Fragmentation of Memory\n",
        "- Python’s memory allocator (PyMalloc) can cause fragmentation, especially when objects of different sizes are created and deleted repeatedly.\n",
        "\n",
        "- Over time, this can lead to inefficient use of memory — even if total usage seems small, Python might still hold onto large chunks of memory.\n",
        "\n",
        "4. Large Object Retention\n",
        "- Python sometimes keeps large objects alive longer than expected because:\n",
        "\n",
        "    Variables remain in local/global scope.\n",
        "\n",
        "    Containers (like lists, dicts) still hold references.\n",
        "\n",
        "- This leads to high memory usage, especially in data-heavy tasks (NumPy, Pandas, etc.).\n",
        "\n",
        "\n",
        "5. Garbage Collector Overhead\n",
        "- Python’s garbage collector (GC) periodically checks for unreachable objects.\n",
        "\n",
        "\n",
        "- In programs that create many short-lived objects (e.g., web servers), this can add performance overhead.\n",
        "\n",
        "\n",
        "- Disabling or tuning GC (gc.disable(), gc.collect()) requires care — doing it incorrectly can lead to memory leaks.\n",
        "\n",
        "\n",
        "6. External (Non-Python) Memory\n",
        "- Python libraries written in C/C++ (like NumPy, TensorFlow) manage their own memory outside Python’s garbage collector.\n",
        "\n",
        "\n",
        "- If not handled properly, these can lead to leaks even when Python objects are deleted because Python doesn’t automatically free the external memory buffer.\n",
        "\n",
        "\n",
        "7. Threading and Memory\n",
        "- In multi-threaded programs, Python’s Global Interpreter Lock (GIL) ensures thread safety but can complicate memory release timing.\n",
        "\n",
        "- Some threads might hold onto memory longer due to delayed cleanup.\n"
      ],
      "metadata": {
        "id": "c17drpnweKL9"
      }
    },
    {
      "cell_type": "markdown",
      "source": [
        "Question 3: Write a Python program that logs an error message to a log file when a division by zero exception occurs."
      ],
      "metadata": {
        "id": "9Un9-XeEeKHJ"
      }
    },
    {
      "cell_type": "code",
      "source": [
        "# Write a Python program that logs an error message to a log file when a division by zero exception occurs.\n",
        "\n",
        "\n",
        "import logging\n",
        "\n",
        "logging.basicConfig(\n",
        "    filename='error_log.txt',\n",
        "    level=logging.ERROR,\n",
        "    format='%(asctime)s - %(levelname)s - %(message)s'\n",
        ")\n",
        "\n",
        "def divide_numbers(a, b):\n",
        "    try:\n",
        "        result = a / b\n",
        "        print(f\"Result: {result}\")\n",
        "    except ZeroDivisionError as e:\n",
        "        logging.error(\"Division by zero error occurred.\", exc_info=True)\n",
        "        print(\"Error: Division by zero is not allowed!\")\n"
      ],
      "metadata": {
        "id": "zSVWZ-rqEc9T"
      },
      "execution_count": 1,
      "outputs": []
    },
    {
      "cell_type": "markdown",
      "source": [
        "Question 4- Write a Python program that reads from one file and writes its content to another file.\n"
      ],
      "metadata": {
        "id": "reUTiqKEeJ-_"
      }
    },
    {
      "cell_type": "code",
      "source": [
        "# :Write a Python program that reads from one file and writes its content to another file.\n",
        "\n",
        "def copy_file(source_file, destination_file):\n",
        "    try:\n",
        "\n",
        "        with open(source_file, 'r') as src:\n",
        "            content = src.read()\n",
        "\n",
        "\n",
        "        with open(destination_file, 'w') as dest:\n",
        "            dest.write(content)\n",
        "\n",
        "        print(f\"Content copied successfully from '{source_file}' to '{destination_file}'\")\n",
        "\n",
        "    except FileNotFoundError:\n",
        "        print(f\"Error: The file '{source_file}' was not found.\")\n",
        "    except IOError:\n",
        "        print(\"Error: An error occurred while reading or writing the file.\")\n",
        "\n"
      ],
      "metadata": {
        "id": "5F2m70K-E909"
      },
      "execution_count": 3,
      "outputs": []
    },
    {
      "cell_type": "markdown",
      "source": [
        "Question 5: Write a program that handles both IndexError and KeyError using a try-except block."
      ],
      "metadata": {
        "id": "WrIgw6BSeJxa"
      }
    },
    {
      "cell_type": "code",
      "execution_count": 9,
      "metadata": {
        "id": "IJoJDKHGd7Ti"
      },
      "outputs": [],
      "source": [
        "# Write a program that handles both IndexError and KeyError using a try-except block.\n",
        "def handle_errors():\n",
        "    my_list = [10, 20, 30]\n",
        "    my_dict = {\"name\": \"John\", \"age\": 25}\n",
        "\n",
        "    try:\n",
        "\n",
        "        print(\"List item:\", my_list[5])\n",
        "        print(\"Dictionary item:\", my_dict[\"city\"])\n",
        "\n",
        "    except IndexError:\n",
        "        print(\"Error: You tried to access an invalid index in the list.\")\n",
        "    except KeyError:\n",
        "        print(\"Error: You tried to access a key that doesn't exist in the dictionary.\")\n",
        "    else:\n",
        "        print(\"No error occurred!\")\n",
        "    finally:\n",
        "        print(\"Program execution completed.\")"
      ]
    },
    {
      "cell_type": "markdown",
      "source": [
        "Question 6: What are the differences between NumPy arrays and Python lists?\n",
        "\n",
        "Ans- There are several differences between Numpy arreys and Python lists which are given below:-\n",
        "\n",
        "1. Data types:\n",
        "- Numpy arrays are Homogeneous- all elements must be of the same type.\n",
        "- Python lists are hetrerogeneous- can contain different data types\n",
        "2. performance\n",
        "- Numpy arrays are much faster and more memory-efficient due to emplementation in C\n",
        "- Python lists Slower because it's implementated in pure Python and stores elements as seperate objects.\n",
        "3. Memory Usage\n",
        "- Numpy array stores elements in contiguous memory blocks, making operations faster.\n",
        "- Python lists stores references to objects, increasing memory overhead.\n",
        "4. Mathematical Operations\n",
        "- Numpy arrays supports vectorized operations\n",
        "- Python lists requires explicit loops for element-wise operation\n",
        "5. Functionality\n",
        "- Numpy arrays comes with hundreads of built-in mathematical and statistical functions.\n",
        "- Python lists only basic operations are available for advanced math\n",
        "6. Dimensionality\n",
        "- Numpy arrays can represent multi-dimentional data (1D, 2D, 3D, etc)\n",
        "- Python lists primarily 1D; you can nest lists, but they are inefficient and irregular.\n",
        "7. Broadcasting\n",
        "- NUmpy arrays supports brodcasting - operations between arrays of different shapes automatically align.\n",
        "- Python lists has no brodcasting - operations between lists must be of equal length.\n",
        "8. Memory efficient\n",
        "- Numpy arrays are more compact and uses less memory.\n",
        "- Python lists consumes more memory due to object overhead,\n",
        "9. Type conversion\n",
        "- Numpy arrays elements automatically converted to a single data type.\n",
        "- Python lists elements retain their original data types."
      ],
      "metadata": {
        "id": "-xFm9muIHS25"
      }
    },
    {
      "cell_type": "markdown",
      "source": [
        "Question 7:Explain the difference between apply() and map() in Pandas.\n",
        "\n",
        "Ans:- The apply() method allows you to apply a function along the axis of a dataframe or series. It is particularly useful for custome operations.\n",
        "\n",
        "where the applymap() method is similar but works elements-wise on dataframes."
      ],
      "metadata": {
        "id": "dYc2jY-8pZTy"
      }
    },
    {
      "cell_type": "markdown",
      "source": [
        "Question - 8 Create a histogram using Seaborn to visualize a distribution."
      ],
      "metadata": {
        "id": "sTGJsHXPvYw6"
      }
    },
    {
      "cell_type": "code",
      "source": [
        "# Create a histogram using Seaborn to visualize a distribution\n",
        "import seaborn as sns\n",
        "import matplotlib.pyplot as plt\n",
        "\n",
        "data = [1, 2, 3, 4, 5, 6, 7, 8, 9, 10]\n",
        "\n",
        "sns.histplot(data, bins=8, kde=True, color='blue')\n",
        "plt.title('Histogram of Data')\n",
        "plt.xlabel('Value')\n",
        "plt.ylabel('Frequency')\n",
        "plt.show()\n",
        "\n",
        "plt.show()\n"
      ],
      "metadata": {
        "colab": {
          "base_uri": "https://localhost:8080/",
          "height": 472
        },
        "id": "URnPXRj_ZwMi",
        "outputId": "92be1d99-0a64-4bd4-ba1f-084cfdd29e13"
      },
      "execution_count": 2,
      "outputs": [
        {
          "output_type": "display_data",
          "data": {
            "text/plain": [
              "<Figure size 640x480 with 1 Axes>"
            ],
            "image/png": "[encoded data removed]"
          },
          "metadata": {}
        }
      ]
    },
    {
      "cell_type": "markdown",
      "source": [
        "Question 9: Use Pandas to load a CSV file and display its first 5 rows."
      ],
      "metadata": {
        "id": "jhrG847mvYli"
      }
    },
    {
      "cell_type": "code",
      "source": [
        "# Use Pandas to load a CSV file and display its first 5 rows\n",
        "import pandas as pd\n",
        "data = pd.read_csv(\"data.csv\")\n",
        "print(\"First 5 rows of the dataset:\")\n",
        "print(data.head())"
      ],
      "metadata": {
        "collapsed": true,
        "id": "4O6reMvDakcE"
      },
      "execution_count": null,
      "outputs": []
    },
    {
      "cell_type": "markdown",
      "source": [
        "Question 10: Calculate the correlation matrix using Seaborn and visualize it with a\n",
        "heatmap."
      ],
      "metadata": {
        "id": "EA4W6bxEvYYQ"
      }
    },
    {
      "cell_type": "code",
      "source": [
        "# Calculate the correlation matrix using Seaborn and visualize it with a heatmap\n",
        "\n",
        "import pandas as pd\n",
        "import seaborn as sns\n",
        "import matplotlib.pyplot as plt\n",
        "\n",
        "data = {\n",
        "    \"age\" : [20, 19, 25, 28, 30, 35],\n",
        "    \"salary\": [25000, 18000, 30000, 35000, 40000, 50000],\n",
        "    \"experience\": [2, 1, 3, 8, 10, 14],\n",
        "    \"score\": [50, 60, 70, 55, 80, 85]\n",
        "}\n",
        "\n",
        "df = pd.DataFrame(data)\n",
        "\n",
        "corr = df.corr()\n",
        "\n",
        "print(\"corrrelation matrix:\")\n",
        "print(corr)\n",
        "\n",
        "plt.figure(figsize=(6,4))\n",
        "sns.heatmap(corr, annot=True, cmap='coolwarm', linewidths=0.5)\n",
        "\n",
        "plt.title(\"correlation hetamap\", fontsize= 16)\n",
        "plt.show()"
      ],
      "metadata": {
        "colab": {
          "base_uri": "https://localhost:8080/",
          "height": 497
        },
        "id": "mfL0QJ1JcwRR",
        "outputId": "5643247f-241e-484e-af8b-17cfdc73daf4"
      },
      "execution_count": 8,
      "outputs": [
        {
          "output_type": "stream",
          "name": "stdout",
          "text": [
            "corrrelation matrix:\n",
            "                 age    salary  experience     score\n",
            "age         1.000000  0.986137    0.973606  0.789346\n",
            "salary      0.986137  1.000000    0.972208  0.762632\n",
            "experience  0.973606  0.972208    1.000000  0.736460\n",
            "score       0.789346  0.762632    0.736460  1.000000\n"
          ]
        },
        {
          "output_type": "display_data",
          "data": {
            "text/plain": [
              "<Figure size 600x400 with 2 Axes>"
            ],
            "image/png": "[encoded data removed]"
          },
          "metadata": {}
        }
      ]
    },
    {
      "cell_type": "code",
      "source": [],
      "metadata": {
        "id": "wIi9FW_NGtR6"
      },
      "execution_count": null,
      "outputs": []
    }
  ]
}